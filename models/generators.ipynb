{
 "cells": [
  {
   "cell_type": "markdown",
   "metadata": {},
   "source": [
    "# Generative models on HSMusic"
   ]
  },
  {
   "cell_type": "markdown",
   "metadata": {},
   "source": [
    "### Baselines\n",
    "* Crop 100 frames and process data as images (instead of using sequential models such as RNN, LSTM)\n",
    "* Try autoencoders (fully connected and CNN), additive noise model, medGAN, copula\n",
    "* Pre-train on all data (130,000 midi files) -> save as NPY\n",
    "* Train on subset of data (only specific musicians)\n",
    "* Data augmentation: random transposition from -12 to +12\n",
    "* Binarization: try various threshold if the output contains only zeros"
   ]
  },
  {
   "cell_type": "code",
   "execution_count": 1,
   "metadata": {},
   "outputs": [
    {
     "name": "stdout",
     "output_type": "stream",
     "text": [
      "WARNING:tensorflow:From /usr/local/lib/python3.6/dist-packages/tensorflow_core/python/compat/v2_compat.py:88: disable_resource_variables (from tensorflow.python.ops.variable_scope) is deprecated and will be removed in a future version.\n",
      "Instructions for updating:\n",
      "non-resource variables are not supported in the long term\n"
     ]
    }
   ],
   "source": [
    " %load_ext autoreload\n",
    "%autoreload 2\n",
    "from generators import *\n",
    "import sys\n",
    "sys.path.append('../')\n",
    "import hsmusic\n",
    "import numpy as np\n",
    "from tqdm import tqdm\n",
    "import autopandas as apd\n",
    "import tensorflow.compat.v1 as tf\n",
    "tf.disable_v2_behavior()\n",
    "import matplotlib.pyplot as plt"
   ]
  },
  {
   "cell_type": "code",
   "execution_count": 31,
   "metadata": {},
   "outputs": [],
   "source": [
    "def show(example):\n",
    "    for i in range(1):\n",
    "        a = example[:,:,i]\n",
    "        a = a.reshape(100, 78)\n",
    "        plt.imshow(a)"
   ]
  },
  {
   "cell_type": "code",
   "execution_count": 111,
   "metadata": {},
   "outputs": [
    {
     "name": "stdout",
     "output_type": "stream",
     "text": [
      "Reading midi files...\n"
     ]
    },
    {
     "name": "stderr",
     "output_type": "stream",
     "text": [
      " 18%|█▊        | 461/2571 [07:25<1:00:03,  1.71s/it]"
     ]
    },
    {
     "name": "stdout",
     "output_type": "stream",
     "text": [
      "Failed to read /mnt/Documents/music-gen/hsmusic/data/reddit/unknown/4/40mozart.mid.\n",
      "Bad header in MIDI file.\n"
     ]
    },
    {
     "name": "stderr",
     "output_type": "stream",
     "text": [
      " 20%|█▉        | 502/2571 [07:51<14:22,  2.40it/s]  "
     ]
    },
    {
     "name": "stdout",
     "output_type": "stream",
     "text": [
      "Failed to read /mnt/Documents/music-gen/hsmusic/data/umaes/baroque/bach_motete_3_jesu_meine_freude.mid.\n",
      "Bad header in MIDI file.\n"
     ]
    },
    {
     "name": "stderr",
     "output_type": "stream",
     "text": [
      " 20%|█▉        | 507/2571 [07:52<09:03,  3.80it/s]"
     ]
    },
    {
     "name": "stdout",
     "output_type": "stream",
     "text": [
      "Failed to read /mnt/Documents/music-gen/hsmusic/data/umaes/baroque/bach_244_o_mensch.mid.\n",
      "Bad header in MIDI file.\n"
     ]
    },
    {
     "name": "stderr",
     "output_type": "stream",
     "text": [
      "\r",
      " 20%|█▉        | 509/2571 [07:53<10:49,  3.18it/s]"
     ]
    },
    {
     "name": "stdout",
     "output_type": "stream",
     "text": [
      "Failed to read /mnt/Documents/music-gen/hsmusic/data/umaes/baroque/bach_o_jesu_christ_meins_lebens_licht.mid.\n",
      "Bad header in MIDI file.\n"
     ]
    },
    {
     "name": "stderr",
     "output_type": "stream",
     "text": [
      " 20%|██        | 515/2571 [07:54<11:45,  2.91it/s]"
     ]
    },
    {
     "name": "stdout",
     "output_type": "stream",
     "text": [
      "Failed to read /mnt/Documents/music-gen/hsmusic/data/umaes/baroque/bach_motete_5_komm_jesu_komm.mid.\n",
      "Bad header in MIDI file.\n"
     ]
    },
    {
     "name": "stderr",
     "output_type": "stream",
     "text": [
      " 37%|███▋      | 939/2571 [11:15<02:40, 10.14it/s]/usr/local/lib/python3.6/dist-packages/midi-0.2.3-py3.6.egg/midi/fileio.py:68: Warning: Unknown Meta MIDI Event: 9\n",
      " 82%|████████▏ | 2116/2571 [17:19<06:37,  1.15it/s]"
     ]
    },
    {
     "name": "stdout",
     "output_type": "stream",
     "text": [
      "Failed to read /mnt/Documents/music-gen/hsmusic/data/reddit/unknown/b/b/brandenberg_concerto_no3_bach.mid.\n",
      "Bad header in MIDI file.\n"
     ]
    },
    {
     "name": "stderr",
     "output_type": "stream",
     "text": [
      " 87%|████████▋ | 2226/2571 [18:20<03:33,  1.62it/s]"
     ]
    },
    {
     "name": "stdout",
     "output_type": "stream",
     "text": [
      "Failed to read /mnt/Documents/music-gen/hsmusic/data/reddit/unknown/v/v/variations_on_a_bach_invention.mid.\n",
      "must be str, not bytes\n"
     ]
    },
    {
     "name": "stderr",
     "output_type": "stream",
     "text": [
      "100%|█████████▉| 2569/2571 [21:44<00:00,  2.95it/s]"
     ]
    },
    {
     "name": "stdout",
     "output_type": "stream",
     "text": [
      "Failed to read /mnt/Documents/music-gen/hsmusic/data/reddit/unknown/v/v/victoria.mid.\n",
      "Bad header in MIDI file.\n"
     ]
    },
    {
     "name": "stderr",
     "output_type": "stream",
     "text": [
      "100%|██████████| 2571/2571 [21:45<00:00,  1.97it/s]\n"
     ]
    },
    {
     "name": "stdout",
     "output_type": "stream",
     "text": [
      "(1725, 100, 78, 2)\n"
     ]
    }
   ],
   "source": [
    "sequence_length = 100\n",
    "data = hsmusic.get_data(['mozart', 'bach', 'victoria']) #, [500, 500])\n",
    "data = crop_data_bis(data, sequence_length=sequence_length)\n",
    "n = data.shape[0]\n",
    "print(data.shape)"
   ]
  },
  {
   "cell_type": "code",
   "execution_count": 112,
   "metadata": {},
   "outputs": [
    {
     "data": {
      "image/png": "[encoded data removed]",
      "text/plain": [
       "<Figure size 432x288 with 1 Axes>"
      ]
     },
     "metadata": {
      "needs_background": "light"
     },
     "output_type": "display_data"
    }
   ],
   "source": [
    "show(data[6])"
   ]
  },
  {
   "cell_type": "markdown",
   "metadata": {},
   "source": [
    "# Fully connected architecture"
   ]
  },
  {
   "cell_type": "code",
   "execution_count": 113,
   "metadata": {
    "scrolled": true
   },
   "outputs": [
    {
     "name": "stdout",
     "output_type": "stream",
     "text": [
      "Train on 1725 samples\n",
      "Epoch 1/50\n",
      "1725/1725 [==============================] - 2s 1ms/sample - loss: 6.4888\n",
      "Epoch 2/50\n",
      "1725/1725 [==============================] - 1s 416us/sample - loss: 3.0267\n",
      "Epoch 3/50\n",
      "1725/1725 [==============================] - 1s 414us/sample - loss: 2.9166\n",
      "Epoch 4/50\n",
      "1725/1725 [==============================] - 1s 418us/sample - loss: 2.8802\n",
      "Epoch 5/50\n",
      "1725/1725 [==============================] - 1s 403us/sample - loss: 2.8717\n",
      "Epoch 6/50\n",
      "1725/1725 [==============================] - 1s 395us/sample - loss: 2.8738\n",
      "Epoch 7/50\n",
      "1725/1725 [==============================] - 1s 413us/sample - loss: 2.8681\n",
      "Epoch 8/50\n",
      "1725/1725 [==============================] - 1s 418us/sample - loss: 2.8676\n",
      "Epoch 9/50\n",
      "1725/1725 [==============================] - 1s 423us/sample - loss: 2.8683\n",
      "Epoch 10/50\n",
      "1725/1725 [==============================] - 1s 421us/sample - loss: 2.8680\n",
      "Epoch 11/50\n",
      "1725/1725 [==============================] - 1s 441us/sample - loss: 2.8703\n",
      "Epoch 12/50\n",
      "1725/1725 [==============================] - 1s 442us/sample - loss: 2.8706\n",
      "Epoch 13/50\n",
      "1725/1725 [==============================] - 1s 459us/sample - loss: 2.8704\n",
      "Epoch 14/50\n",
      "1725/1725 [==============================] - 1s 432us/sample - loss: 2.8715\n",
      "Epoch 15/50\n",
      "1725/1725 [==============================] - 1s 433us/sample - loss: 2.8723\n",
      "Epoch 16/50\n",
      "1725/1725 [==============================] - 1s 430us/sample - loss: 2.8693\n",
      "Epoch 17/50\n",
      "1725/1725 [==============================] - 1s 417us/sample - loss: 2.8685\n",
      "Epoch 18/50\n",
      "1725/1725 [==============================] - 1s 416us/sample - loss: 2.8716\n",
      "Epoch 19/50\n",
      "1725/1725 [==============================] - 1s 421us/sample - loss: 2.8758\n",
      "Epoch 20/50\n",
      "1725/1725 [==============================] - 1s 437us/sample - loss: 2.8720\n",
      "Epoch 21/50\n",
      "1725/1725 [==============================] - 1s 448us/sample - loss: 2.8761\n",
      "Epoch 22/50\n",
      "1725/1725 [==============================] - 1s 437us/sample - loss: 2.8790\n",
      "Epoch 23/50\n",
      "1725/1725 [==============================] - 1s 436us/sample - loss: 2.8710\n",
      "Epoch 24/50\n",
      "1725/1725 [==============================] - 1s 442us/sample - loss: 2.8745\n",
      "Epoch 25/50\n",
      "1725/1725 [==============================] - 1s 446us/sample - loss: 2.8743\n",
      "Epoch 26/50\n",
      "1725/1725 [==============================] - 1s 433us/sample - loss: 2.8753\n",
      "Epoch 27/50\n",
      "1725/1725 [==============================] - 1s 443us/sample - loss: 2.8732\n",
      "Epoch 28/50\n",
      "1725/1725 [==============================] - 1s 443us/sample - loss: 2.8755\n",
      "Epoch 29/50\n",
      "1725/1725 [==============================] - 1s 434us/sample - loss: 2.8710\n",
      "Epoch 30/50\n",
      "1725/1725 [==============================] - 1s 425us/sample - loss: 2.8752\n",
      "Epoch 31/50\n",
      "1725/1725 [==============================] - 1s 420us/sample - loss: 2.8740\n",
      "Epoch 32/50\n",
      "1725/1725 [==============================] - 1s 418us/sample - loss: 2.8719\n",
      "Epoch 33/50\n",
      "1725/1725 [==============================] - 1s 419us/sample - loss: 2.8767\n",
      "Epoch 34/50\n",
      "1725/1725 [==============================] - 1s 420us/sample - loss: 2.8717\n",
      "Epoch 35/50\n",
      "1725/1725 [==============================] - 1s 417us/sample - loss: 2.8723\n",
      "Epoch 36/50\n",
      "1725/1725 [==============================] - 1s 435us/sample - loss: 2.8717\n",
      "Epoch 37/50\n",
      "1725/1725 [==============================] - 1s 432us/sample - loss: 2.8726\n",
      "Epoch 38/50\n",
      "1725/1725 [==============================] - 1s 451us/sample - loss: 2.8752\n",
      "Epoch 39/50\n",
      "1725/1725 [==============================] - 1s 424us/sample - loss: 2.8737\n",
      "Epoch 40/50\n",
      "1725/1725 [==============================] - 1s 439us/sample - loss: 2.8742\n",
      "Epoch 41/50\n",
      "1725/1725 [==============================] - 1s 448us/sample - loss: 2.8732\n",
      "Epoch 42/50\n",
      "1725/1725 [==============================] - 1s 465us/sample - loss: 2.8764\n",
      "Epoch 43/50\n",
      "1725/1725 [==============================] - 1s 454us/sample - loss: 2.8744\n",
      "Epoch 44/50\n",
      "1725/1725 [==============================] - 1s 452us/sample - loss: 2.8734\n",
      "Epoch 45/50\n",
      "1725/1725 [==============================] - 1s 444us/sample - loss: 2.8758\n",
      "Epoch 46/50\n",
      "1725/1725 [==============================] - 1s 433us/sample - loss: 2.8738\n",
      "Epoch 47/50\n",
      "1725/1725 [==============================] - 1s 469us/sample - loss: 2.8754\n",
      "Epoch 48/50\n",
      "1725/1725 [==============================] - 1s 436us/sample - loss: 2.8727\n",
      "Epoch 49/50\n",
      "1725/1725 [==============================] - 1s 428us/sample - loss: 2.8732\n",
      "Epoch 50/50\n",
      "1725/1725 [==============================] - 1s 426us/sample - loss: 2.8759\n"
     ]
    },
    {
     "data": {
      "text/plain": [
       "<tensorflow.python.keras.callbacks.History at 0x7f730ef0f6a0>"
      ]
     },
     "execution_count": 113,
     "metadata": {},
     "output_type": "execute_result"
    }
   ],
   "source": [
    "# Reshape data\n",
    "data_reshaped = np.reshape(data, (n, sequence_length*78*2))\n",
    "# loss='mse', 'binary_crossentropy'\n",
    "model = apd.generators.VAE(input_dim=(sequence_length*78* 2), layers=[480], latent_dim=120, loss='nll', architecture='fully', optimizer='adam')\n",
    "vae, encoder, decoder = model.autoencoder, model.encoder, model.decoder\n",
    "#print(vae.summary())\n",
    "model.fit(data_reshaped, epochs=50)"
   ]
  },
  {
   "cell_type": "code",
   "execution_count": 116,
   "metadata": {},
   "outputs": [
    {
     "data": {
      "image/png": "[encoded data removed]",
      "text/plain": [
       "<Figure size 432x288 with 1 Axes>"
      ]
     },
     "metadata": {
      "needs_background": "light"
     },
     "output_type": "display_data"
    }
   ],
   "source": [
    "# generate output\n",
    "s = np.array(model.sample(1))\n",
    "s = binarize(s)\n",
    "s = np.reshape(s, (100, 78, 2))\n",
    "show(s)"
   ]
  },
  {
   "cell_type": "code",
   "execution_count": 101,
   "metadata": {},
   "outputs": [],
   "source": [
    "# save\n",
    "hsmusic.to_midi(s, 'output/fully.mid')"
   ]
  },
  {
   "cell_type": "markdown",
   "metadata": {},
   "source": [
    "# CNN architecture"
   ]
  },
  {
   "cell_type": "code",
   "execution_count": 117,
   "metadata": {},
   "outputs": [],
   "source": [
    "sdata = simplify_data(data)"
   ]
  },
  {
   "cell_type": "code",
   "execution_count": 118,
   "metadata": {},
   "outputs": [],
   "source": [
    "sdata = np.reshape(sdata, (n, sequence_length, 78, 1))"
   ]
  },
  {
   "cell_type": "code",
   "execution_count": 120,
   "metadata": {
    "scrolled": true
   },
   "outputs": [
    {
     "name": "stderr",
     "output_type": "stream",
     "text": [
      "/usr/local/lib/python3.6/dist-packages/autopandas/generators/vae.py:103: UserWarning: strides argument is currently not implemented.\n",
      "  warn('strides argument is currently not implemented.')\n"
     ]
    },
    {
     "name": "stdout",
     "output_type": "stream",
     "text": [
      "Train on 1725 samples\n",
      "Epoch 1/10\n",
      "1725/1725 [==============================] - 3s 2ms/sample - loss: 22.6054\n",
      "Epoch 2/10\n",
      "1725/1725 [==============================] - 1s 810us/sample - loss: 11.6821\n",
      "Epoch 3/10\n",
      "1725/1725 [==============================] - 1s 809us/sample - loss: 10.3718\n",
      "Epoch 4/10\n",
      "1725/1725 [==============================] - 1s 810us/sample - loss: 10.1539\n",
      "Epoch 5/10\n",
      "1725/1725 [==============================] - 1s 809us/sample - loss: 9.9909\n",
      "Epoch 6/10\n",
      "1725/1725 [==============================] - 1s 811us/sample - loss: 9.8460\n",
      "Epoch 7/10\n",
      "1725/1725 [==============================] - 1s 811us/sample - loss: 9.7844\n",
      "Epoch 8/10\n",
      "1725/1725 [==============================] - 1s 810us/sample - loss: 9.7637\n",
      "Epoch 9/10\n",
      "1725/1725 [==============================] - 1s 815us/sample - loss: 9.7380\n",
      "Epoch 10/10\n",
      "1725/1725 [==============================] - 1s 813us/sample - loss: 9.7310\n"
     ]
    },
    {
     "data": {
      "text/plain": [
       "<tensorflow.python.keras.callbacks.History at 0x7f71892b1eb8>"
      ]
     },
     "execution_count": 120,
     "metadata": {},
     "output_type": "execute_result"
    }
   ],
   "source": [
    "model = apd.generators.VAE(input_dim=(sequence_length, 78, 1), layers=[36], latent_dim=12, loss='nll', architecture='cnn', optimizer='adam')\n",
    "vae, encoder, decoder = model.autoencoder, model.encoder, model.decoder\n",
    "#print(vae.summary())\n",
    "model.fit(sdata, epochs=10)"
   ]
  },
  {
   "cell_type": "code",
   "execution_count": 122,
   "metadata": {},
   "outputs": [
    {
     "name": "stderr",
     "output_type": "stream",
     "text": [
      "/usr/local/lib/python3.6/dist-packages/autopandas/generators/autoencoder.py:188: UserWarning: Impossible to cast sampled data to autopandas.AutoData\n",
      "  warn('Impossible to cast sampled data to autopandas.AutoData')\n"
     ]
    },
    {
     "data": {
      "image/png": "[encoded data removed]",
      "text/plain": [
       "<Figure size 432x288 with 1 Axes>"
      ]
     },
     "metadata": {
      "needs_background": "light"
     },
     "output_type": "display_data"
    }
   ],
   "source": [
    "# generate output\n",
    "s = model.sample(1)\n",
    "s = binarize(s)\n",
    "s = np.reshape(s, (100, 78, 1))\n",
    "zeros = np.zeros((100, 78, 1))\n",
    "s = np.concatenate([s, zeros], axis=2)\n",
    "show(s)"
   ]
  },
  {
   "cell_type": "code",
   "execution_count": 58,
   "metadata": {},
   "outputs": [],
   "source": [
    "hsmusic.to_midi(s, 'output/cnn.mid')"
   ]
  },
  {
   "cell_type": "markdown",
   "metadata": {},
   "source": [
    "# Additive Noise Model"
   ]
  },
  {
   "cell_type": "code",
   "execution_count": 125,
   "metadata": {},
   "outputs": [],
   "source": [
    "# Reshape data\n",
    "data_reshaped = apd.AutoData(np.reshape(data, (n, sequence_length*78*2)))\n",
    "# loss='mse', 'binary_crossentropy'\n",
    "model = apd.generators.ANM()\n",
    "#print(vae.summary())\n",
    "model.fit(data_reshaped)"
   ]
  },
  {
   "cell_type": "code",
   "execution_count": 130,
   "metadata": {},
   "outputs": [],
   "source": [
    "# generate output\n",
    "s = np.array(model.sample(1))\n",
    "s = binarize(s)\n",
    "s = np.reshape(s, (100, 78, 2))\n",
    "show(s)"
   ]
  },
  {
   "cell_type": "code",
   "execution_count": null,
   "metadata": {},
   "outputs": [],
   "source": [
    "hsmusic.to_midi(s, 'output/anm.mid')"
   ]
  },
  {
   "cell_type": "markdown",
   "metadata": {},
   "source": [
    "# MedGAN"
   ]
  },
  {
   "cell_type": "code",
   "execution_count": 121,
   "metadata": {},
   "outputs": [],
   "source": [
    "# ..."
   ]
  },
  {
   "cell_type": "code",
   "execution_count": null,
   "metadata": {},
   "outputs": [],
   "source": []
  }
 ],
 "metadata": {
  "kernelspec": {
   "display_name": "Python 3",
   "language": "python",
   "name": "python3"
  },
  "language_info": {
   "codemirror_mode": {
    "name": "ipython",
    "version": 3
   },
   "file_extension": ".py",
   "mimetype": "text/x-python",
   "name": "python",
   "nbconvert_exporter": "python",
   "pygments_lexer": "ipython3",
   "version": "3.6.12"
  }
 },
 "nbformat": 4,
 "nbformat_minor": 4
}
